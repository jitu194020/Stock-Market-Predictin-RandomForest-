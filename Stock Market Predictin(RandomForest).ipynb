{
  "cells": [
    {
      "cell_type": "code",
      "execution_count": 11,
      "metadata": {
        "id": "FjHBzjakXbTa"
      },
      "outputs": [],
      "source": [
        "import pandas  as pd\n",
        "import numpy as np\n",
        "from sklearn.ensemble import RandomForestRegressor\n",
        "import matplotlib.pyplot as plt\n",
        "\n",
        "#input from excel data sheet:\n",
        "df=pd.read_csv('data.csv')\n",
        "df= df.dropna()"
      ]
    },
    {
      "cell_type": "code",
      "execution_count": 12,
      "metadata": {
        "colab": {
          "base_uri": "https://localhost:8080/",
          "height": 423
        },
        "id": "fh1AfdKqXpHv",
        "outputId": "b3e99bc3-53b5-4dc4-bdac-81bce1efc542"
      },
      "outputs": [
        {
          "data": {
            "text/html": [
              "<div>\n",
              "<style scoped>\n",
              "    .dataframe tbody tr th:only-of-type {\n",
              "        vertical-align: middle;\n",
              "    }\n",
              "\n",
              "    .dataframe tbody tr th {\n",
              "        vertical-align: top;\n",
              "    }\n",
              "\n",
              "    .dataframe thead th {\n",
              "        text-align: right;\n",
              "    }\n",
              "</style>\n",
              "<table border=\"1\" class=\"dataframe\">\n",
              "  <thead>\n",
              "    <tr style=\"text-align: right;\">\n",
              "      <th></th>\n",
              "      <th>Company</th>\n",
              "      <th>Date</th>\n",
              "      <th>Close</th>\n",
              "      <th>Volume</th>\n",
              "      <th>Open</th>\n",
              "      <th>High</th>\n",
              "      <th>Low</th>\n",
              "    </tr>\n",
              "  </thead>\n",
              "  <tbody>\n",
              "    <tr>\n",
              "      <th>0</th>\n",
              "      <td>SSJ</td>\n",
              "      <td>01-06-23</td>\n",
              "      <td>193.99</td>\n",
              "      <td>50520160</td>\n",
              "      <td>191.90</td>\n",
              "      <td>194.3200</td>\n",
              "      <td>191.81</td>\n",
              "    </tr>\n",
              "    <tr>\n",
              "      <th>1</th>\n",
              "      <td>SSJ</td>\n",
              "      <td>02-06-23</td>\n",
              "      <td>194.99</td>\n",
              "      <td>41616240</td>\n",
              "      <td>190.23</td>\n",
              "      <td>191.1800</td>\n",
              "      <td>189.63</td>\n",
              "    </tr>\n",
              "    <tr>\n",
              "      <th>2</th>\n",
              "      <td>SSJ</td>\n",
              "      <td>03-06-23</td>\n",
              "      <td>195.99</td>\n",
              "      <td>41342340</td>\n",
              "      <td>190.50</td>\n",
              "      <td>191.1900</td>\n",
              "      <td>189.78</td>\n",
              "    </tr>\n",
              "    <tr>\n",
              "      <th>3</th>\n",
              "      <td>SSJ</td>\n",
              "      <td>04-06-23</td>\n",
              "      <td>196.99</td>\n",
              "      <td>60750250</td>\n",
              "      <td>189.68</td>\n",
              "      <td>191.7000</td>\n",
              "      <td>188.47</td>\n",
              "    </tr>\n",
              "    <tr>\n",
              "      <th>4</th>\n",
              "      <td>SSJ</td>\n",
              "      <td>05-06-23</td>\n",
              "      <td>197.99</td>\n",
              "      <td>46638120</td>\n",
              "      <td>189.16</td>\n",
              "      <td>189.3000</td>\n",
              "      <td>186.60</td>\n",
              "    </tr>\n",
              "    <tr>\n",
              "      <th>...</th>\n",
              "      <td>...</td>\n",
              "      <td>...</td>\n",
              "      <td>...</td>\n",
              "      <td>...</td>\n",
              "      <td>...</td>\n",
              "      <td>...</td>\n",
              "      <td>...</td>\n",
              "    </tr>\n",
              "    <tr>\n",
              "      <th>499</th>\n",
              "      <td>SSJ</td>\n",
              "      <td>12-10-24</td>\n",
              "      <td>145.40</td>\n",
              "      <td>74993460</td>\n",
              "      <td>145.53</td>\n",
              "      <td>146.1300</td>\n",
              "      <td>144.63</td>\n",
              "    </tr>\n",
              "    <tr>\n",
              "      <th>500</th>\n",
              "      <td>SSJ</td>\n",
              "      <td>13-10-24</td>\n",
              "      <td>146.15</td>\n",
              "      <td>96350040</td>\n",
              "      <td>143.46</td>\n",
              "      <td>147.0997</td>\n",
              "      <td>142.96</td>\n",
              "    </tr>\n",
              "    <tr>\n",
              "      <th>501</th>\n",
              "      <td>SSJ</td>\n",
              "      <td>14-10-24</td>\n",
              "      <td>142.45</td>\n",
              "      <td>121434600</td>\n",
              "      <td>143.75</td>\n",
              "      <td>144.0700</td>\n",
              "      <td>141.67</td>\n",
              "    </tr>\n",
              "    <tr>\n",
              "      <th>502</th>\n",
              "      <td>SSJ</td>\n",
              "      <td>15-10-24</td>\n",
              "      <td>146.39</td>\n",
              "      <td>93251430</td>\n",
              "      <td>148.46</td>\n",
              "      <td>149.7600</td>\n",
              "      <td>145.88</td>\n",
              "    </tr>\n",
              "    <tr>\n",
              "      <th>503</th>\n",
              "      <td>SSJ</td>\n",
              "      <td>16-10-24</td>\n",
              "      <td>148.48</td>\n",
              "      <td>106820300</td>\n",
              "      <td>149.24</td>\n",
              "      <td>150.0000</td>\n",
              "      <td>147.09</td>\n",
              "    </tr>\n",
              "  </tbody>\n",
              "</table>\n",
              "<p>504 rows × 7 columns</p>\n",
              "</div>"
            ],
            "text/plain": [
              "    Company      Date   Close     Volume    Open      High     Low\n",
              "0       SSJ  01-06-23  193.99   50520160  191.90  194.3200  191.81\n",
              "1       SSJ  02-06-23  194.99   41616240  190.23  191.1800  189.63\n",
              "2       SSJ  03-06-23  195.99   41342340  190.50  191.1900  189.78\n",
              "3       SSJ  04-06-23  196.99   60750250  189.68  191.7000  188.47\n",
              "4       SSJ  05-06-23  197.99   46638120  189.16  189.3000  186.60\n",
              "..      ...       ...     ...        ...     ...       ...     ...\n",
              "499     SSJ  12-10-24  145.40   74993460  145.53  146.1300  144.63\n",
              "500     SSJ  13-10-24  146.15   96350040  143.46  147.0997  142.96\n",
              "501     SSJ  14-10-24  142.45  121434600  143.75  144.0700  141.67\n",
              "502     SSJ  15-10-24  146.39   93251430  148.46  149.7600  145.88\n",
              "503     SSJ  16-10-24  148.48  106820300  149.24  150.0000  147.09\n",
              "\n",
              "[504 rows x 7 columns]"
            ]
          },
          "execution_count": 12,
          "metadata": {},
          "output_type": "execute_result"
        }
      ],
      "source": [
        "#view output:\n",
        "df"
      ]
    },
    {
      "cell_type": "code",
      "execution_count": 13,
      "metadata": {
        "colab": {
          "base_uri": "https://localhost:8080/",
          "height": 646
        },
        "id": "NsxE_fGcXutC",
        "outputId": "7b2ef7c5-6135-4ff9-9cf8-d91c83440ec3"
      },
      "outputs": [
        {
          "data": {
            "text/plain": [
              "(array([-100.,    0.,  100.,  200.,  300.,  400.,  500.,  600.]),\n",
              " [Text(-100.0, 0, '09-07-24'),\n",
              "  Text(0.0, 0, '01-06-23'),\n",
              "  Text(100.0, 0, '09-09-23'),\n",
              "  Text(200.0, 0, '18-12-23'),\n",
              "  Text(300.0, 0, '27-03-24'),\n",
              "  Text(400.0, 0, '05-07-24'),\n",
              "  Text(500.0, 0, '13-10-24'),\n",
              "  Text(600.0, 0, '')])"
            ]
          },
          "execution_count": 13,
          "metadata": {},
          "output_type": "execute_result"
        },
        {
          "data": {
            "image/png": "[encoded data removed]",
            "text/plain": [
              "<Figure size 432x288 with 1 Axes>"
            ]
          },
          "metadata": {
            "needs_background": "light"
          },
          "output_type": "display_data"
        }
      ],
      "source": [
        "#coressponding data graph:\n",
        "df.plot(x=\"Date\",y=\"Close\")\n",
        "plt.xticks(rotation=45)"
      ]
    },
    {
      "cell_type": "code",
      "execution_count": 14,
      "metadata": {
        "id": "JZUw1LaEX2yy"
      },
      "outputs": [],
      "source": [
        "#create model:\n",
        "model=RandomForestRegressor()"
      ]
    },
    {
      "cell_type": "code",
      "execution_count": 15,
      "metadata": {
        "id": "Z4oIh27qX8FE"
      },
      "outputs": [],
      "source": [
        "x=df[['Open','High','Low','Volume']]\n",
        "x=x[:int(len(df)-100)]\n",
        "y=df['Close']\n",
        "y=y[:int(len(df)-100)]\n"
      ]
    },
    {
      "cell_type": "code",
      "execution_count": 16,
      "metadata": {
        "colab": {
          "base_uri": "https://localhost:8080/",
          "height": 74
        },
        "id": "VyR5RdQSX-WQ",
        "outputId": "95efaffc-7635-472b-94b1-98ca6e5a98b1"
      },
      "outputs": [
        {
          "data": {
            "text/plain": [
              "RandomForestRegressor()"
            ]
          },
          "execution_count": 16,
          "metadata": {},
          "output_type": "execute_result"
        }
      ],
      "source": [
        "#train the model:\n",
        "model.fit(x,y)"
      ]
    },
    {
      "cell_type": "code",
      "execution_count": 17,
      "metadata": {
        "colab": {
          "base_uri": "https://localhost:8080/"
        },
        "id": "t6F_t7APY_XJ",
        "outputId": "612adcde-85ee-4f10-f9c9-8f1392808e55"
      },
      "outputs": [
        {
          "name": "stdout",
          "output_type": "stream",
          "text": [
            "The model score is: 0.9793247183482715\n"
          ]
        }
      ],
      "source": [
        "#test the model:\n",
        "predictions=model.predict(x)\n",
        "print('The model score is:',model.score(x,y))\n"
      ]
    },
    {
      "cell_type": "code",
      "execution_count": 18,
      "metadata": {
        "colab": {
          "base_uri": "https://localhost:8080/"
        },
        "id": "MRfY1hk0ZFaR",
        "outputId": "0d62377a-d803-49d3-b807-0b5b866a6aab"
      },
      "outputs": [
        {
          "name": "stdout",
          "output_type": "stream",
          "text": [
            "The model predicts the last row or day to be: [148.9209]\n",
            "Actual value is: 148.48\n"
          ]
        }
      ],
      "source": [
        "#make prediction:\n",
        "new_data=df[['Open','High','Low','Volume']].tail(1)\n",
        "prediction=model.predict(new_data)\n",
        "print('The model predicts the last row or day to be:',prediction)\n",
        "print('Actual value is:',df[['Close']].tail(1).values[0][0])"
      ]
    },
    {
      "cell_type": "code",
      "execution_count": 19,
      "metadata": {
        "colab": {
          "base_uri": "https://localhost:8080/"
        },
        "id": "XHAIL4zCZzFl",
        "outputId": "58413ddb-8e67-43d0-d6cc-6a9744565934"
      },
      "outputs": [
        {
          "name": "stdout",
          "output_type": "stream",
          "text": [
            "Difference value is: [0.4409]\n"
          ]
        }
      ],
      "source": [
        "print('Difference value is:',(prediction)-(df[['Close']].tail(1).values[0][0]))"
      ]
    }
  ],
  "metadata": {
    "colab": {
      "provenance": []
    },
    "kernelspec": {
      "display_name": "Python 3",
      "name": "python3"
    },
    "language_info": {
      "codemirror_mode": {
        "name": "ipython",
        "version": 3
      },
      "file_extension": ".py",
      "mimetype": "text/x-python",
      "name": "python",
      "nbconvert_exporter": "python",
      "pygments_lexer": "ipython3",
      "version": "3.9.7"
    }
  },
  "nbformat": 4,
  "nbformat_minor": 0
}
